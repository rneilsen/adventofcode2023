{
 "cells": [
  {
   "cell_type": "code",
   "execution_count": null,
   "metadata": {},
   "outputs": [],
   "source": [
    "with open('input.txt') as f:\n",
    "\trows = [line.strip() for line in f.readlines()]"
   ]
  },
  {
   "cell_type": "code",
   "execution_count": null,
   "metadata": {},
   "outputs": [],
   "source": [
    "test = \"\"\"???.### 1,1,3\n",
    ".??..??...?##. 1,1,3\n",
    "?#?#?#?#?#?#?#? 1,3,1,6\n",
    "????.#...#... 4,1,1\n",
    "????.######..#####. 1,6,5\n",
    "?###???????? 3,2,1\"\"\".splitlines()"
   ]
  },
  {
   "cell_type": "code",
   "execution_count": null,
   "metadata": {},
   "outputs": [],
   "source": [
    "def parse(rows):\n",
    "\tout = []\n",
    "\tfor row in rows:\n",
    "\t\tmask, raw_blocks = row.split(' ')\n",
    "\t\tblocks = [int(block) for block in raw_blocks.split(',')]\n",
    "\t\tout.append((mask, blocks))\n",
    "\t\n",
    "\treturn out"
   ]
  },
  {
   "cell_type": "code",
   "execution_count": null,
   "metadata": {},
   "outputs": [],
   "source": [
    "tests = \"\"\".###.##.#...\n",
    ".###.##..#..\n",
    ".###.##...#.\n",
    ".###.##....#\n",
    ".###..##.#..\n",
    ".###..##..#.\n",
    ".###..##...#\n",
    ".###...##.#.\n",
    ".###...##..#\n",
    ".###....##.#\"\"\".splitlines()\n",
    "\n",
    "mask = \"\"\"?###????????\"\"\"\n",
    "\n",
    "[test_mask(row, mask) for row in tests]"
   ]
  },
  {
   "cell_type": "code",
   "execution_count": null,
   "metadata": {},
   "outputs": [],
   "source": [
    "def count_ways(mask, blocks):\n",
    "\tmask = mask.strip('.')\n",
    "\ttotal = 0\n",
    "\n",
    "\tif len(blocks) == 0 or len(mask) < sum(blocks) + len(blocks) - 1:\n",
    "\t\treturn 0\n",
    "\t\n",
    "\tblock = blocks[0]\n",
    "\t\n",
    "\tif len(blocks) == 1:\n",
    "\t\tif '.' not in mask[:block] and '#' not in mask[block:]:\n",
    "\t\t\ttotal += 1 + count_ways(mask[1:], blocks)\n",
    "\t\treturn total\n",
    "\n",
    "\tif '.' not in mask[:block]:\n",
    "\t\tif mask[block] != '#':\n",
    "\t\t\ttotal += count_ways(mask[block+1:], blocks[1:])\n",
    "\t\t\tif mask[0] == '?':\n",
    "\t\t\t\ttotal += count_ways(mask[1:], blocks)\n",
    "\t\telse:\n",
    "\t\t\ttotal += count_ways(mask[1:], blocks)\n",
    "\telse:\n",
    "\t\treturn count_ways(mask[1:], blocks)\n",
    "\t\n",
    "\treturn total\n",
    "\t\t"
   ]
  },
  {
   "cell_type": "code",
   "execution_count": null,
   "metadata": {},
   "outputs": [],
   "source": [
    "def count(mask, blocks):\n",
    "\ttotal = 0\n",
    "\t\n",
    "\tblock = blocks[0]\n",
    "\twhile '.' in mask[:block]:\n",
    "\t\tmask = mask[1:]\n",
    "\n",
    "\tif len(blocks) == 0 or len(mask) < sum(blocks) + len(blocks) - 1:\n",
    "\t\treturn 0\n",
    "\t\n",
    "\n",
    "\tif len(blocks) == 1:\n",
    "\t\tif '.' not in mask[:block] and '#' not in mask[block:]:\n",
    "\t\t\treturn 1 + count(mask[1:], blocks)\n",
    "\t\n",
    "\tif mask[0] == '#':\n",
    "\t\tif mask[block] != '#':\n",
    "\t\t\treturn count(mask[block+1:], blocks[1:])\n",
    "\t\telse:\n",
    "\t\t\treturn 0\n",
    "\telse: # mask[0] == '?'\n",
    "\t\tif mask[block] != '#':\n",
    "\t\t\ttotal += count(mask[block:], blocks[1:])\n",
    "\t\ttotal += count(mask[1:], blocks)\n",
    "\t\n",
    "\treturn total\n",
    "\n",
    "\t\t\n"
   ]
  },
  {
   "cell_type": "code",
   "execution_count": null,
   "metadata": {},
   "outputs": [],
   "source": [
    "count_ways('????.######..#####.', [1, 6, 5]) \t# should be 4"
   ]
  },
  {
   "cell_type": "code",
   "execution_count": null,
   "metadata": {},
   "outputs": [],
   "source": [
    "count_ways('?#?#?#?#?#?#?#?', [1, 3, 1, 6])\t\t# should be 1"
   ]
  },
  {
   "cell_type": "code",
   "execution_count": null,
   "metadata": {},
   "outputs": [],
   "source": [
    "for mask, blocks in parse(test):\n",
    "\tprint(mask, blocks, count(mask, blocks))"
   ]
  },
  {
   "cell_type": "code",
   "execution_count": null,
   "metadata": {},
   "outputs": [],
   "source": [
    "print('part 1:', sum([count_ways(mask, blocks) for mask, blocks in parse(test)]))"
   ]
  }
 ],
 "metadata": {
  "language_info": {
   "name": "python",
   "pygments_lexer": "ipython3",
   "file_extension": ".py",
   "nbconvert_exporter": "python"
  }
 },
 "nbformat": 4,
 "nbformat_minor": 2
}
