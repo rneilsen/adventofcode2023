{
 "cells": [
  {
   "cell_type": "code",
   "execution_count": null,
   "metadata": {},
   "outputs": [],
   "source": [
    "import numpy as np"
   ]
  },
  {
   "cell_type": "code",
   "execution_count": null,
   "metadata": {},
   "outputs": [],
   "source": [
    "# load input data\n",
    "\n",
    "with open('input.txt') as f:\n",
    "\trows = [row.strip() for row in f.readlines()]\n",
    "\n",
    "rows[:10]"
   ]
  },
  {
   "cell_type": "code",
   "execution_count": null,
   "metadata": {},
   "outputs": [],
   "source": [
    "# sample data\n",
    "\n",
    "test = \"\"\"467..114..\n",
    "...*......\n",
    "..35..633.\n",
    "......#...\n",
    "617*......\n",
    ".....+.58.\n",
    "..592.....\n",
    "......755.\n",
    "...$.*....\n",
    ".664.598..\"\"\".splitlines()\n",
    "\n",
    "test"
   ]
  },
  {
   "cell_type": "code",
   "execution_count": null,
   "metadata": {},
   "outputs": [],
   "source": [
    "def is_symbol(char):\n",
    "\treturn (char != '.' and not char.isnumeric())\n"
   ]
  },
  {
   "cell_type": "code",
   "execution_count": null,
   "metadata": {},
   "outputs": [],
   "source": [
    "from itertools import product\n",
    "\n",
    "def get_surrounds(rows, row_index, col_indices):\n",
    "\tfield = np.array([[c for c in row] for row in rows])\n",
    "\tnum_rows, num_cols = field.shape\n",
    "\n",
    "\trows_to_check = [row_index]\n",
    "\tcols_to_check = col_indices.copy()\n",
    "\n",
    "\tif row_index > 0:\n",
    "\t\trows_to_check.append(row_index - 1)\n",
    "\tif row_index < num_rows - 1:\n",
    "\t\trows_to_check.append(row_index + 1)\n",
    "\t\n",
    "\tif min(col_indices) > 0:\n",
    "\t\tcols_to_check.append(min(col_indices) - 1)\n",
    "\tif max(col_indices) < num_cols - 1:\n",
    "\t\tcols_to_check.append(max(col_indices) + 1)\n",
    "\t\n",
    "\tcoords = set(product(rows_to_check, cols_to_check)) - set(product([row_index], col_indices))\n",
    "\n",
    "\treturn sorted(list(coords))"
   ]
  },
  {
   "cell_type": "code",
   "execution_count": null,
   "metadata": {},
   "outputs": [],
   "source": [
    "def get_number_ranges(rows):\n",
    "\tnumber_ranges = []\n",
    "\tfor row_index, row in enumerate(rows):\n",
    "\t\trow_number_ranges = []\n",
    "\t\ti = 0\n",
    "\t\twhile i < len(row):\n",
    "\t\t\tnumber_range = []\n",
    "\t\t\twhile i < len(row) and row[i].isnumeric():\n",
    "\t\t\t\tnumber_range.append(i)\n",
    "\t\t\t\ti += 1\n",
    "\t\t\t\n",
    "\t\t\tif number_range: \n",
    "\t\t\t\trow_number_ranges.append(number_range)\n",
    "\t\t\ti += 1\n",
    "\t\tnumber_ranges.append((row_index, row_number_ranges))\n",
    "\n",
    "\treturn number_ranges"
   ]
  },
  {
   "cell_type": "code",
   "execution_count": null,
   "metadata": {},
   "outputs": [],
   "source": [
    "# Part 1\n",
    "def get_part_number_ranges(rows):\n",
    "\tfield = np.array([[c for c in row] for row in rows])\n",
    "\tpart_numbers = []\n",
    "\n",
    "\tfor row_index, number_ranges in get_number_ranges(rows):\n",
    "\t\tfor number_range in number_ranges:\n",
    "\t\t\tsurrounds = get_surrounds(field, row_index, number_range)\n",
    "\t\t\tsurrounding_chars = [field[coords] for coords in surrounds]\n",
    "\t\t\tfor c in surrounding_chars:\n",
    "\t\t\t\tif is_symbol(c):\n",
    "\t\t\t\t\tpart_numbers.append((row_index, number_range))\n",
    "\t\n",
    "\treturn part_numbers"
   ]
  },
  {
   "cell_type": "code",
   "execution_count": null,
   "metadata": {},
   "outputs": [],
   "source": [
    "get_part_number_ranges(test)"
   ]
  },
  {
   "cell_type": "code",
   "execution_count": null,
   "metadata": {},
   "outputs": [],
   "source": [
    "def get_part_numbers(rows):\n",
    "\tfield = np.array([[c for c in row] for row in rows])\n",
    "\tpart_number_ranges = get_part_number_ranges(rows)\n",
    "\n",
    "\treturn [int(''.join([field[row_index, col_index] for col_index in col_range])) for row_index, col_range in part_number_ranges]"
   ]
  },
  {
   "cell_type": "code",
   "execution_count": null,
   "metadata": {},
   "outputs": [],
   "source": [
    "get_part_numbers(test)"
   ]
  },
  {
   "cell_type": "code",
   "execution_count": null,
   "metadata": {},
   "outputs": [],
   "source": [
    "print('part 1:', sum(get_part_numbers(rows)))"
   ]
  },
  {
   "cell_type": "code",
   "execution_count": null,
   "metadata": {},
   "outputs": [],
   "source": [
    "def get_part_number_coords(rows):\n",
    "\tfield = np.array([[c for c in row] for row in rows])\n",
    "\tpart_number_ranges = get_part_number_ranges(rows)\n",
    "\n",
    "\treturn [[(row_index, col_index) for col_index in number_range] for row_index, number_range in part_number_ranges]"
   ]
  },
  {
   "cell_type": "code",
   "execution_count": null,
   "metadata": {},
   "outputs": [],
   "source": [
    "get_part_number_coords(test)"
   ]
  },
  {
   "cell_type": "code",
   "execution_count": null,
   "metadata": {},
   "outputs": [],
   "source": [
    "def get_gear_ratios(rows):\n",
    "\tfield = np.array([[c for c in row] for row in rows])\n",
    "\tnum_rows, num_cols = field.shape\n",
    "\t\n",
    "\tstar_coords = [(i, j) for i, j in product(range(num_rows), range(num_cols)) if field[i, j] == '*']\n",
    "\tpart_number_coords = get_part_number_coords(rows)\n",
    "\tratios = []\n",
    "\n",
    "\tfor row_index, col_index in star_coords:\n",
    "\t\tsurrounds = get_surrounds(rows, row_index, [col_index])\n",
    "\t\tadjacent_part_numbers = set()\n",
    "\t\tfor coord in surrounds:\n",
    "\t\t\tfor part_number_coord_set in part_number_coords:\n",
    "\t\t\t\tif coord in part_number_coord_set: \n",
    "\t\t\t\t\tadjacent_part_numbers.add(int(''.join([field[coord] for coord in part_number_coord_set])))\n",
    "\t\tif len(adjacent_part_numbers) == 2:\n",
    "\t\t\ta = adjacent_part_numbers.pop()\n",
    "\t\t\tb = adjacent_part_numbers.pop()\n",
    "\t\t\tratios.append(a * b)\n",
    "\t\n",
    "\treturn ratios\n",
    "\t\t"
   ]
  },
  {
   "cell_type": "code",
   "execution_count": null,
   "metadata": {},
   "outputs": [],
   "source": [
    "get_gear_ratios(test)"
   ]
  },
  {
   "cell_type": "code",
   "execution_count": null,
   "metadata": {},
   "outputs": [],
   "source": [
    "print('part 2:', sum(get_gear_ratios(rows)))"
   ]
  }
 ],
 "metadata": {
  "language_info": {
   "name": "python",
   "pygments_lexer": "ipython3",
   "file_extension": ".py",
   "nbconvert_exporter": "python"
  }
 },
 "nbformat": 4,
 "nbformat_minor": 2
}
