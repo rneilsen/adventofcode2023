{
 "cells": [
  {
   "cell_type": "code",
   "execution_count": null,
   "metadata": {},
   "outputs": [],
   "source": [
    "import pandas as pd"
   ]
  },
  {
   "cell_type": "code",
   "execution_count": null,
   "metadata": {},
   "outputs": [],
   "source": [
    "with open('input.txt') as f:\n",
    "\treal = f.read()"
   ]
  },
  {
   "cell_type": "code",
   "execution_count": null,
   "metadata": {},
   "outputs": [],
   "source": [
    "test = \"\"\"seeds: 79 14 55 13\n",
    "\n",
    "seed-to-soil map:\n",
    "50 98 2\n",
    "52 50 48\n",
    "\n",
    "soil-to-fertilizer map:\n",
    "0 15 37\n",
    "37 52 2\n",
    "39 0 15\n",
    "\n",
    "fertilizer-to-water map:\n",
    "49 53 8\n",
    "0 11 42\n",
    "42 0 7\n",
    "57 7 4\n",
    "\n",
    "water-to-light map:\n",
    "88 18 7\n",
    "18 25 70\n",
    "\n",
    "light-to-temperature map:\n",
    "45 77 23\n",
    "81 45 19\n",
    "68 64 13\n",
    "\n",
    "temperature-to-humidity map:\n",
    "0 69 1\n",
    "1 0 69\n",
    "\n",
    "humidity-to-location map:\n",
    "60 56 37\n",
    "56 93 4\"\"\""
   ]
  },
  {
   "cell_type": "code",
   "execution_count": null,
   "metadata": {},
   "outputs": [],
   "source": [
    "def parse_maps(raw_input):\n",
    "\tsections = raw_input.split('\\n\\n')\n",
    "\traw_seeds, raw_maps = sections[0], sections[1:]\n",
    "\n",
    "\t_, raw_seed_nums = raw_seeds.split(':')\n",
    "\tseed_nums = [int(s.strip()) for s in raw_seed_nums.split(' ') if s.isnumeric()]\n",
    "\n",
    "\tmaps = []\n",
    "\tfor raw_map in raw_maps:\n",
    "\t\tmap_name, raw_mappings = raw_map.split(' map:\\n')\n",
    "\t\tmap_source_type, map_dest_type = map_name.split('-to-')\n",
    "\n",
    "\t\tmappings = [tuple(int(s) for s in mapping.split(' ')) for mapping in raw_mappings.strip().split('\\n')]\n",
    "\t\tdict_map = {range(source_start, source_start + length): dest_start - source_start for dest_start, source_start, length in mappings}\n",
    "\t\tmaps.append(((map_source_type, map_dest_type), dict_map))\n",
    "\t\n",
    "\treturn seed_nums, maps\n"
   ]
  },
  {
   "cell_type": "code",
   "execution_count": null,
   "metadata": {},
   "outputs": [],
   "source": [
    "def remap(value, map):\n",
    "\tfor rng, diff in map.items():\n",
    "\t\tif value in rng:\n",
    "\t\t\treturn value + diff\n",
    "\treturn value\n"
   ]
  },
  {
   "cell_type": "code",
   "execution_count": null,
   "metadata": {},
   "outputs": [],
   "source": [
    "def compute_mappings(raw_input):\n",
    "\tseed_nums, maps = parse_maps(raw_input)\n",
    "\n",
    "\tseeds = []\n",
    "\tfor seed_num in seed_nums:\n",
    "\t\tseed = {'seed': seed_num}\n",
    "\t\tfor (map_source_type, map_dest_type), map in maps:\n",
    "\t\t\tif map_source_type in seed:\n",
    "\t\t\t\tmap_source_value = seed[map_source_type]\n",
    "\t\t\t\tseed[map_dest_type] = remap(map_source_value, map)\n",
    "\t\tseeds.append(seed)\n",
    "\t\n",
    "\treturn pd.DataFrame(seeds)\n"
   ]
  },
  {
   "cell_type": "code",
   "execution_count": null,
   "metadata": {},
   "outputs": [],
   "source": [
    "compute_mappings(test)"
   ]
  },
  {
   "cell_type": "code",
   "execution_count": null,
   "metadata": {},
   "outputs": [],
   "source": [
    "print('part 1:', min(compute_mappings(real)['location']))"
   ]
  },
  {
   "cell_type": "code",
   "execution_count": null,
   "metadata": {},
   "outputs": [],
   "source": [
    "parse_maps(test)[1]"
   ]
  },
  {
   "cell_type": "code",
   "execution_count": null,
   "metadata": {},
   "outputs": [],
   "source": [
    "def overlap_ranges(r1, r2):\n",
    "\t\"\"\"returns a triple of ranges: the section of r1 to the left of r2, the section of r1 that overlaps r2, and the section of r1 to the right of r2\"\"\"\n",
    "\treturn (\n",
    "\t\t\trange(r1.start, min(r2.start, r1.stop)), \n",
    "\t\t\trange(max(r1.start, r2.start), min(r1.stop, r2.stop)),\n",
    "\t\t\trange(max(r2.stop, r1.start), r1.stop)\n",
    "\t\t\t)\n"
   ]
  },
  {
   "cell_type": "code",
   "execution_count": null,
   "metadata": {},
   "outputs": [],
   "source": [
    "range_combos = [\n",
    "\t\t(range(1, 3), range(5, 7)),\n",
    "\t\t(range(1, 5), range(3, 7),),\n",
    "\t\t(range(3, 5), range(1, 7),),\n",
    "\t\t(range(3, 7), range(1, 5),),\n",
    "\t\t(range(5, 7), range(1, 3),),\n",
    "\t\t(range(1, 7), range(3, 5),)\n",
    "\t]\n",
    "for a, b in range_combos:\n",
    "\tleft, over, right = overlap_ranges(a, b)\n",
    "\tprint(a, b, ':', left, over, right)\n"
   ]
  },
  {
   "cell_type": "code",
   "execution_count": null,
   "metadata": {},
   "outputs": [],
   "source": [
    "def remap_range(in_range, map):\n",
    "\tranges_to_process = [in_range]\n",
    "\n",
    "\toutput = []\n",
    "\twhile len(ranges_to_process) > 0:\n",
    "\t\trng = ranges_to_process.pop()\n",
    "\t\tfor map_rng, diff in map.items():\n",
    "\t\t\tleft, overlap, right = overlap_ranges(rng, map_rng)\n",
    "\t\t\tif not overlap:\n",
    "\t\t\t\tcontinue\n",
    "\t\t\toutput.append(range(overlap.start + diff, overlap.stop + diff))\n",
    "\t\t\tif left:\n",
    "\t\t\t\tranges_to_process.append(left)\n",
    "\t\t\tif right:\n",
    "\t\t\t\tranges_to_process.append(right)\n",
    "\t\t\tbreak\n",
    "\t\telse:\n",
    "\t\t\t# this range did not map to anything\n",
    "\t\t\toutput.append(rng)\n",
    "\t\n",
    "\treturn output"
   ]
  },
  {
   "cell_type": "code",
   "execution_count": null,
   "metadata": {},
   "outputs": [],
   "source": [
    "parse_maps(test)[1]"
   ]
  },
  {
   "cell_type": "code",
   "execution_count": null,
   "metadata": {},
   "outputs": [],
   "source": [
    "def compute_range_mappings(raw_input):\n",
    "\tseed_nums, maps = parse_maps(raw_input)\n",
    "\n",
    "\tseed_ranges = [range(seed_nums[i], seed_nums[i] + seed_nums[i+1]) for i in range(0, len(seed_nums), 2)]\n",
    "\n",
    "\tfor (map_source_type, map_dest_type), map in maps:\n",
    "\t\tnew_ranges = []\n",
    "\t\tfor seed_range in seed_ranges:\n",
    "\t\t\tnew_ranges.extend(remap_range(seed_range, map))\n",
    "\t\tseed_ranges = new_ranges\n",
    "\t\n",
    "\treturn seed_ranges"
   ]
  },
  {
   "cell_type": "code",
   "execution_count": null,
   "metadata": {},
   "outputs": [],
   "source": [
    "compute_range_mappings(test)"
   ]
  },
  {
   "cell_type": "code",
   "execution_count": null,
   "metadata": {},
   "outputs": [],
   "source": [
    "print('part 2:', min([r.start for r in compute_range_mappings(real)]))"
   ]
  }
 ],
 "metadata": {
  "language_info": {
   "name": "python",
   "pygments_lexer": "ipython3",
   "file_extension": ".py",
   "nbconvert_exporter": "python"
  }
 },
 "nbformat": 4,
 "nbformat_minor": 2
}
