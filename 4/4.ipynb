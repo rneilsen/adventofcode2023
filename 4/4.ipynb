{
 "cells": [
  {
   "cell_type": "code",
   "execution_count": null,
   "metadata": {},
   "outputs": [],
   "source": [
    "test = \"\"\"Card 1: 41 48 83 86 17 | 83 86  6 31 17  9 48 53\n",
    "Card 2: 13 32 20 16 61 | 61 30 68 82 17 32 24 19\n",
    "Card 3:  1 21 53 59 44 | 69 82 63 72 16 21 14  1\n",
    "Card 4: 41 92 73 84 69 | 59 84 76 51 58  5 54 83\n",
    "Card 5: 87 83 26 28 32 | 88 30 70 12 93 22 82 36\n",
    "Card 6: 31 18 13 56 72 | 74 77 10 23 35 67 36 11\"\"\".splitlines()\n",
    "\n",
    "for line in test:\n",
    "\tprint(line)"
   ]
  },
  {
   "cell_type": "code",
   "execution_count": null,
   "metadata": {},
   "outputs": [],
   "source": [
    "with open('input.txt') as f:\n",
    "\trows = [row.strip() for row in f.readlines()]\n",
    "\n",
    "for row in rows[:10]:\n",
    "\tprint(row)"
   ]
  },
  {
   "cell_type": "code",
   "execution_count": null,
   "metadata": {},
   "outputs": [],
   "source": [
    "def parse_rows(rows):\n",
    "\tcards = []\n",
    "\tfor row in rows:\n",
    "\t\traw_card_name, raw_numbers = row.split(':')\n",
    "\t\tcard_id = int(raw_card_name[4:].strip())\n",
    "\t\traw_winning_numbers, raw_have_numbers = raw_numbers.split('|')\n",
    "\t\twinning_numbers = [int(s) for s in raw_winning_numbers.split(' ') if s.isnumeric()]\n",
    "\t\thave_numbers = [int(s) for s in raw_have_numbers.split(' ') if s.isnumeric()]\n",
    "\t\tcards.append((card_id, winning_numbers, have_numbers))\n",
    "\treturn cards"
   ]
  },
  {
   "cell_type": "code",
   "execution_count": null,
   "metadata": {},
   "outputs": [],
   "source": [
    "parse_rows(test)"
   ]
  },
  {
   "cell_type": "code",
   "execution_count": null,
   "metadata": {},
   "outputs": [],
   "source": [
    "def get_card_matches(card):\n",
    "\tcard_id, winning_numbers, have_numbers = card\n",
    "\twinning_set = set(winning_numbers)\n",
    "\thave_set = set(have_numbers)\n",
    "\n",
    "\tmatches = winning_set.intersection(have_set)\n",
    "\n",
    "\treturn len(matches)"
   ]
  },
  {
   "cell_type": "code",
   "execution_count": null,
   "metadata": {},
   "outputs": [],
   "source": [
    "for card in parse_rows(test):\n",
    "\tprint(card, get_card_matches(card))"
   ]
  },
  {
   "cell_type": "code",
   "execution_count": null,
   "metadata": {},
   "outputs": [],
   "source": [
    "def get_card_points(card):\n",
    "\tmatches = get_card_matches(card)\n",
    "\tif matches == 0: \n",
    "\t\treturn 0\n",
    "\treturn 2**(matches - 1)"
   ]
  },
  {
   "cell_type": "code",
   "execution_count": null,
   "metadata": {},
   "outputs": [],
   "source": [
    "for card in parse_rows(test):\n",
    "\tprint(card, get_card_points(card))"
   ]
  },
  {
   "cell_type": "code",
   "execution_count": null,
   "metadata": {},
   "outputs": [],
   "source": [
    "sum([get_card_points(card) for card in parse_rows(test)])"
   ]
  },
  {
   "cell_type": "code",
   "execution_count": null,
   "metadata": {},
   "outputs": [],
   "source": [
    "print('part 1:', sum([get_card_points(card) for card in parse_rows(rows)]))"
   ]
  },
  {
   "cell_type": "code",
   "execution_count": null,
   "metadata": {},
   "outputs": [],
   "source": [
    "from collections import Counter\n",
    "\n",
    "def get_total_scratchcards(rows):\n",
    "\torig_cards = parse_rows(rows)\n",
    "\tmatches_lookup = {card[0]: get_card_matches(card) for card in orig_cards}\n",
    "\ttotal_cards = 0\n",
    "\n",
    "\tunprocessed_cards = Counter(matches_lookup.keys())\n",
    "\n",
    "\twhile unprocessed_cards.total() > 0:\n",
    "\t\tcard_id = min(unprocessed_cards.keys())\n",
    "\t\tcard_count = unprocessed_cards.pop(card_id)\n",
    "\t\ttotal_cards += card_count\n",
    "\n",
    "\t\tfor won_card in range(card_id + 1, card_id + matches_lookup[card_id] + 1):\n",
    "\t\t\tunprocessed_cards[won_card] += card_count\n",
    "\t\n",
    "\treturn total_cards"
   ]
  },
  {
   "cell_type": "code",
   "execution_count": null,
   "metadata": {},
   "outputs": [],
   "source": [
    "get_total_scratchcards(test)"
   ]
  },
  {
   "cell_type": "code",
   "execution_count": null,
   "metadata": {},
   "outputs": [],
   "source": [
    "print('part 2:', get_total_scratchcards(rows))"
   ]
  }
 ],
 "metadata": {
  "language_info": {
   "name": "python",
   "pygments_lexer": "ipython3",
   "file_extension": ".py",
   "nbconvert_exporter": "python"
  }
 },
 "nbformat": 4,
 "nbformat_minor": 2
}
