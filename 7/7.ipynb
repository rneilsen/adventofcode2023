{
 "cells": [
  {
   "cell_type": "code",
   "execution_count": null,
   "metadata": {},
   "outputs": [],
   "source": [
    "card_map_1 = {'A': 14, 'K': 13, 'Q': 12, 'J': 11, 'T': 10}\n",
    "for i in reversed(range(2,10)):\n",
    "\tcard_map_1[str(i)] = i\n",
    "\n",
    "card_map_2 = {'A': 14, 'K': 13, 'Q': 12, 'J': 1, 'T': 10}\n",
    "for i in reversed(range(2,10)):\n",
    "\tcard_map_2[str(i)] = i"
   ]
  },
  {
   "cell_type": "code",
   "execution_count": null,
   "metadata": {},
   "outputs": [],
   "source": [
    "with open('input.txt') as f:\n",
    "\treal = [s.strip() for s in f.readlines()]\n"
   ]
  },
  {
   "cell_type": "code",
   "execution_count": null,
   "metadata": {},
   "outputs": [],
   "source": [
    "test = \"\"\"32T3K 765\n",
    "T55J5 684\n",
    "KK677 28\n",
    "KTJJT 220\n",
    "QQQJA 483\"\"\".splitlines()\n"
   ]
  },
  {
   "cell_type": "code",
   "execution_count": null,
   "metadata": {},
   "outputs": [],
   "source": [
    "def parse_rows(rows, card_map):\n",
    "\tresult = []\n",
    "\tfor line in rows:\n",
    "\t\ta, b = line.strip().split(' ')\n",
    "\t\tresult.append((tuple(card_map[ch] for ch in a), int(b)))\n",
    "\treturn result"
   ]
  },
  {
   "cell_type": "code",
   "execution_count": null,
   "metadata": {},
   "outputs": [],
   "source": [
    "parse_rows(test, card_map_1)"
   ]
  },
  {
   "cell_type": "code",
   "execution_count": null,
   "metadata": {},
   "outputs": [],
   "source": [
    "card_map_2.values()"
   ]
  },
  {
   "cell_type": "code",
   "execution_count": null,
   "metadata": {},
   "outputs": [],
   "source": [
    "def get_hand_type(hand, card_map, wild=1):\n",
    "\tnon_wilds = list(card_map.values())\n",
    "\ttry:\n",
    "\t\tnon_wilds.remove(wild)\n",
    "\texcept ValueError:\n",
    "\t\tpass\n",
    "\tfor k in non_wilds:\n",
    "\t\tif hand.count(k) + hand.count(wild) == 5:\n",
    "\t\t\t# five of a kind\n",
    "\t\t\treturn 6\n",
    "\tfor k in non_wilds:\t\t\n",
    "\t\tif hand.count(k) + hand.count(wild) == 4:\n",
    "\t\t\t# four of a kind\n",
    "\t\t\treturn 5\n",
    "\tfor k in non_wilds:\n",
    "\t\tif hand.count(k) + hand.count(wild) == 3:\n",
    "\t\t\tfor k2 in non_wilds:\n",
    "\t\t\t\tif hand.count(k2) == 2 and k2 not in (k, wild):\n",
    "\t\t\t\t\t# full house\n",
    "\t\t\t\t\treturn 4\n",
    "\t\t\telse:\n",
    "\t\t\t\t# three of a kind\n",
    "\t\t\t\treturn 3\n",
    "\tfor k in non_wilds:\n",
    "\t\tif hand.count(k) + hand.count(wild) == 2:\n",
    "\t\t\tfor k2 in non_wilds:\n",
    "\t\t\t\tif hand.count(k2) == 2 and k2 not in (k, wild):\n",
    "\t\t\t\t\t# two pair\n",
    "\t\t\t\t\treturn 2\n",
    "\t\t\telse:\n",
    "\t\t\t\t# pair\n",
    "\t\t\t\treturn 1\n",
    "\t# high card\n",
    "\treturn 0"
   ]
  },
  {
   "cell_type": "code",
   "execution_count": null,
   "metadata": {},
   "outputs": [],
   "source": [
    "def sort_hands(hands, card_map):\n",
    "\thand_groups = {i: [] for i in range(7)}\n",
    "\tfor hand, bid in hands:\n",
    "\t\thand_groups[get_hand_type(hand, card_map)].append((hand, bid))\n",
    "\t\n",
    "\tfor hands in hand_groups.values():\n",
    "\t\thands.sort(key=lambda x: x[0])\n",
    "\t\n",
    "\tresult = []\n",
    "\tfor i in range(7):\n",
    "\t\tresult += hand_groups[i]\n",
    "\treturn result"
   ]
  },
  {
   "cell_type": "code",
   "execution_count": null,
   "metadata": {},
   "outputs": [],
   "source": [
    "import pandas as pd\n",
    "\n",
    "def calc_winnings(rows, card_map):\n",
    "\thands = parse_rows(rows, card_map)\n",
    "\tsorted_hands = sort_hands(hands, card_map)\n",
    "\tresults = []\n",
    "\tfor rank, (hand, bid) in enumerate(sorted_hands, start=1):\n",
    "\t\tresults.append({'rank': rank, 'hand': hand, 'bid': bid, 'type': get_hand_type(hand, card_map), 'winnings': rank * bid})\n",
    "\t\n",
    "\treturn pd.DataFrame(results)"
   ]
  },
  {
   "cell_type": "code",
   "execution_count": null,
   "metadata": {},
   "outputs": [],
   "source": [
    "sort_hands(parse_rows(test, card_map_2), card_map_2)"
   ]
  },
  {
   "cell_type": "code",
   "execution_count": null,
   "metadata": {},
   "outputs": [],
   "source": [
    "print('part 1:', calc_winnings(real, card_map_1)['winnings'].sum())"
   ]
  },
  {
   "cell_type": "code",
   "execution_count": null,
   "metadata": {},
   "outputs": [],
   "source": [
    "print('part 2:', calc_winnings(real, card_map_2)['winnings'].sum())"
   ]
  }
 ],
 "metadata": {
  "language_info": {
   "name": "python",
   "pygments_lexer": "ipython3",
   "file_extension": ".py",
   "nbconvert_exporter": "python"
  }
 },
 "nbformat": 4,
 "nbformat_minor": 2
}
