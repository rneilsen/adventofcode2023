{
 "cells": [
  {
   "cell_type": "code",
   "execution_count": null,
   "metadata": {},
   "outputs": [],
   "source": [
    "with open('input.txt') as f:\n",
    "\treal = [s.strip() for s in f.readlines()]\n",
    "\n",
    "real = (real[0].strip(), [s.strip() for s in real[2:]])"
   ]
  },
  {
   "cell_type": "code",
   "execution_count": null,
   "metadata": {},
   "outputs": [],
   "source": [
    "test = \"\"\"RL\n",
    "\n",
    "AAA = (BBB, CCC)\n",
    "BBB = (DDD, EEE)\n",
    "CCC = (ZZZ, GGG)\n",
    "DDD = (DDD, DDD)\n",
    "EEE = (EEE, EEE)\n",
    "GGG = (GGG, GGG)\n",
    "ZZZ = (ZZZ, ZZZ)\"\"\".splitlines()\n",
    "\n",
    "test = (test[0], test[2:])\n",
    "\n",
    "test"
   ]
  },
  {
   "cell_type": "code",
   "execution_count": null,
   "metadata": {},
   "outputs": [],
   "source": [
    "test = \"\"\"LLR\n",
    "\n",
    "AAA = (BBB, BBB)\n",
    "BBB = (AAA, ZZZ)\n",
    "ZZZ = (ZZZ, ZZZ)\"\"\".splitlines()\n",
    "\n",
    "test = (test[0], test[2:])\n",
    "\n",
    "test"
   ]
  },
  {
   "cell_type": "code",
   "execution_count": null,
   "metadata": {},
   "outputs": [],
   "source": [
    "from collections import deque\n",
    "\n",
    "def parse(raw_map):\n",
    "\tinst, raw_mappings = raw_map\n",
    "\tmapping = {row[:3]: (row[7:10], row[12:15]) for row in raw_mappings}\n",
    "\treturn deque(inst), mapping"
   ]
  },
  {
   "cell_type": "code",
   "execution_count": null,
   "metadata": {},
   "outputs": [],
   "source": [
    "STEP_MAPPING = {'L': 0, 'R': 1}\n",
    "\n",
    "def calc_steps(raw_map, fr='AAA', to='ZZZ'):\t\n",
    "\tinst, mapping = parse(raw_map)\n",
    "\t\n",
    "\tnum = 0\n",
    "\tnode = fr\n",
    "\n",
    "\twhile not node.endswith('Z'):\n",
    "\t\tnum += 1\n",
    "\t\tnode = mapping[node][STEP_MAPPING[inst[0]]]\n",
    "\t\tinst.rotate(-1)\n",
    "\t\n",
    "\treturn num\n"
   ]
  },
  {
   "cell_type": "code",
   "execution_count": null,
   "metadata": {},
   "outputs": [],
   "source": [
    "print('part 1:', calc_steps(real))"
   ]
  },
  {
   "cell_type": "code",
   "execution_count": null,
   "metadata": {},
   "outputs": [],
   "source": [
    "test = \"\"\"LR\n",
    "\n",
    "11A = (11B, XXX)\n",
    "11B = (XXX, 11Z)\n",
    "11Z = (11B, XXX)\n",
    "22A = (22B, XXX)\n",
    "22B = (22C, 22C)\n",
    "22C = (22Z, 22Z)\n",
    "22Z = (22B, 22B)\n",
    "XXX = (XXX, XXX)\"\"\".splitlines()\n",
    "\n",
    "test = (test[0], test[2:])\n",
    "\n",
    "test"
   ]
  },
  {
   "cell_type": "code",
   "execution_count": null,
   "metadata": {},
   "outputs": [],
   "source": [
    "from numpy import lcm\n",
    "\n",
    "def simult_runs(raw_map):\n",
    "\tinstructions, mapping = parse(raw_map)\n",
    "\tnodes = {node: calc_steps(raw_map, fr=node) for node in mapping.keys() if node.endswith('A')}\n",
    "\n",
    "\t# it's gross that this works tbh, it has no right to work\n",
    "\treturn lcm.reduce(list(nodes.values()))"
   ]
  },
  {
   "cell_type": "code",
   "execution_count": null,
   "metadata": {},
   "outputs": [],
   "source": [
    "simult_runs(test)"
   ]
  },
  {
   "cell_type": "code",
   "execution_count": null,
   "metadata": {},
   "outputs": [],
   "source": [
    "print('part 2:', simult_runs(real))"
   ]
  }
 ],
 "metadata": {
  "language_info": {
   "name": "python",
   "pygments_lexer": "ipython3",
   "file_extension": ".py",
   "nbconvert_exporter": "python"
  }
 },
 "nbformat": 4,
 "nbformat_minor": 2
}
