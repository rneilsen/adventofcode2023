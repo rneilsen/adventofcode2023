{
 "cells": [
  {
   "cell_type": "code",
   "execution_count": null,
   "metadata": {},
   "outputs": [],
   "source": [
    "# load input data\n",
    "\n",
    "with open('input.txt') as f:\n",
    "\trows = [row.strip() for row in f.readlines()]\n",
    "\n",
    "rows[:10]"
   ]
  },
  {
   "cell_type": "code",
   "execution_count": null,
   "metadata": {},
   "outputs": [],
   "source": [
    "# use sample data\n",
    "\n",
    "test = \"\"\"Game 1: 3 blue, 4 red; 1 red, 2 green, 6 blue; 2 green\n",
    "Game 2: 1 blue, 2 green; 3 green, 4 blue, 1 red; 1 green, 1 blue\n",
    "Game 3: 8 green, 6 blue, 20 red; 5 blue, 4 red, 13 green; 5 green, 1 red\n",
    "Game 4: 1 green, 3 red, 6 blue; 3 green, 6 red; 3 green, 15 blue, 14 red\n",
    "Game 5: 6 red, 1 blue, 3 green; 2 blue, 1 red, 2 green\"\"\".splitlines()\n",
    "\n",
    "test"
   ]
  },
  {
   "cell_type": "code",
   "execution_count": null,
   "metadata": {},
   "outputs": [],
   "source": [
    "def split_game(row):\n",
    "\traw_name, raw_draws = row.split(': ')\n",
    "\tgame_id = int(raw_name[5:])\n",
    "\tgame_draws = raw_draws.split(';')\n",
    "\n",
    "\tdraw_results = []\n",
    "\n",
    "\tfor draw in game_draws:\n",
    "\t\traw_colour_totals = [item.strip() for item in draw.split(',')]\n",
    "\n",
    "\t\tdraw_result = {'red': 0, 'blue': 0, 'green': 0}\n",
    "\t\tfor raw_colour_total in raw_colour_totals:\n",
    "\t\t\tnumber, colour = raw_colour_total.split(' ')\n",
    "\t\t\tdraw_result[colour] = int(number)\n",
    "\t\t\t\n",
    "\t\tdraw_results.append(draw_result)\n",
    "\n",
    "\treturn (game_id, draw_results)"
   ]
  },
  {
   "cell_type": "code",
   "execution_count": null,
   "metadata": {},
   "outputs": [],
   "source": [
    "def get_max_nums(draws):\n",
    "\tmaxima = {col: max([draw[col] for draw in draws]) for col in ('red', 'blue', 'green')}\n",
    "\treturn maxima"
   ]
  },
  {
   "cell_type": "code",
   "execution_count": null,
   "metadata": {},
   "outputs": [],
   "source": [
    "LIMITS = {'red': 12, 'green': 13, 'blue': 14}\n",
    "\n",
    "def find_valid_games(rows):\n",
    "\tvalid_games = []\n",
    "\tfor row in rows:\n",
    "\t\tgame_id, draws = split_game(row)\n",
    "\t\tmaxima = get_max_nums(draws)\n",
    "\n",
    "\t\tvalid_row = True\n",
    "\t\tfor colour, max in LIMITS.items():\n",
    "\t\t\tif maxima[colour] > max:\n",
    "\t\t\t\tvalid_row = False\n",
    "\t\t\t\tbreak\n",
    "\t\t\n",
    "\t\tif valid_row:\n",
    "\t\t\tvalid_games.append((game_id, draws))\n",
    "\t\n",
    "\treturn valid_games"
   ]
  },
  {
   "cell_type": "code",
   "execution_count": null,
   "metadata": {},
   "outputs": [],
   "source": [
    "print('Part 1:', sum([id for id, _ in find_valid_games(rows)]))"
   ]
  },
  {
   "cell_type": "code",
   "execution_count": null,
   "metadata": {},
   "outputs": [],
   "source": [
    "def product(l):\n",
    "\tif len(l) == 0:\n",
    "\t\treturn 1\n",
    "\tif len(l) == 1:\n",
    "\t\treturn l[0]\n",
    "\treturn l[0] * product(l[1:])"
   ]
  },
  {
   "cell_type": "code",
   "execution_count": null,
   "metadata": {},
   "outputs": [],
   "source": [
    "total = 0\n",
    "for row in rows:\n",
    "\tgame_id, draws = split_game(row)\n",
    "\tmaxima = get_max_nums(draws)\n",
    "\n",
    "\tpower = maxima['red'] * maxima['green'] * maxima['blue']\n",
    "\n",
    "\ttotal += power\n",
    "\n",
    "print('Part 2:', total)"
   ]
  }
 ],
 "metadata": {
  "language_info": {
   "name": "python",
   "pygments_lexer": "ipython3",
   "file_extension": ".py",
   "nbconvert_exporter": "python"
  }
 },
 "nbformat": 4,
 "nbformat_minor": 2
}
