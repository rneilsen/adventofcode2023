{
 "cells": [
  {
   "cell_type": "code",
   "execution_count": null,
   "metadata": {},
   "outputs": [],
   "source": [
    "import re\n"
   ]
  },
  {
   "cell_type": "code",
   "execution_count": null,
   "metadata": {},
   "outputs": [],
   "source": [
    "# load real input\n",
    "\n",
    "with open('input.txt') as f:\n",
    "\trows = [row.strip() for row in f.readlines()]\n",
    "\n",
    "rows[:10]"
   ]
  },
  {
   "cell_type": "code",
   "execution_count": null,
   "metadata": {},
   "outputs": [],
   "source": [
    "# test input\n",
    "\n",
    "rows = \"\"\"two1nine\n",
    "eightwothree\n",
    "abcone2threexyz\n",
    "xtwone3four\n",
    "4nineeightseven2\n",
    "zoneight234\n",
    "7pqrstsixteen\"\"\".splitlines()\n",
    "\n",
    "rows"
   ]
  },
  {
   "cell_type": "code",
   "execution_count": null,
   "metadata": {},
   "outputs": [],
   "source": [
    "def get_result(rows, digit_mapping={}):\n",
    "\ttotal = 0\n",
    "\n",
    "\tfor row in rows:\n",
    "\t\told = row\n",
    "\t\tstart_digits = []\n",
    "\t\tend_digits = []\n",
    "\n",
    "\t\ti = 0\n",
    "\t\tshort_row = ''\n",
    "\t\twhile len(start_digits) == 0:\n",
    "\t\t\tshort_row = row[:i]\n",
    "\t\t\tfor k, v in digit_mapping.items():\n",
    "\t\t\t\tshort_row = short_row.replace(k, v)\n",
    "\t\t\tstart_digits = [c for c in short_row if c.isnumeric()]\n",
    "\t\t\ti += 1\n",
    "\t\t\n",
    "\t\ti = len(row)\n",
    "\t\tshort_row = ''\n",
    "\t\twhile len(end_digits) == 0:\n",
    "\t\t\tshort_row = row[i:]\n",
    "\t\t\tfor k, v in digit_mapping.items():\n",
    "\t\t\t\tshort_row = short_row.replace(k, v)\n",
    "\t\t\tend_digits = [c for c in short_row if c.isnumeric()]\n",
    "\t\t\ti -= 1\n",
    "\n",
    "\t\tnumber = int(start_digits[0] + end_digits[0])\n",
    "\t\ttotal += number\n",
    "\n",
    "\t\t# print(number, old)\n",
    "\n",
    "\treturn total"
   ]
  },
  {
   "cell_type": "code",
   "execution_count": null,
   "metadata": {},
   "outputs": [],
   "source": [
    "digit_names = {\t'zero': '0',\n",
    "\t\t\t\t'one': '1',\n",
    "\t\t\t\t'two': '2',\n",
    "\t\t\t\t'three': '3',\n",
    "\t\t\t\t'four': '4',\n",
    "\t\t\t\t'five': '5',\n",
    "\t\t\t\t'six': '6',\n",
    "\t\t\t\t'seven': '7',\n",
    "\t\t\t\t'eight': '8',\n",
    "\t\t\t\t'nine': '9'}"
   ]
  },
  {
   "cell_type": "code",
   "execution_count": null,
   "metadata": {},
   "outputs": [],
   "source": [
    "print('Part 1:', get_result(rows))\n",
    "print('Part 2:', get_result(rows, digit_names))"
   ]
  }
 ],
 "metadata": {
  "language_info": {
   "name": "python",
   "pygments_lexer": "ipython3",
   "file_extension": ".py",
   "nbconvert_exporter": "python"
  }
 },
 "nbformat": 4,
 "nbformat_minor": 2
}
